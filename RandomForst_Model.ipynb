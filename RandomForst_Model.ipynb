{
  "nbformat": 4,
  "nbformat_minor": 0,
  "metadata": {
    "colab": {
      "provenance": [],
      "gpuType": "T4",
      "machine_shape": "hm"
    },
    "kernelspec": {
      "name": "python3",
      "display_name": "Python 3"
    },
    "language_info": {
      "name": "python"
    },
    "accelerator": "GPU"
  },
  "cells": [
    {
      "cell_type": "markdown",
      "source": [
        "# importing required libraries\n"
      ],
      "metadata": {
        "id": "_wUjmp6Rceqq"
      }
    },
    {
      "cell_type": "code",
      "source": [
        "from google.colab import drive\n",
        "drive.mount('/content/drive')"
      ],
      "metadata": {
        "id": "ULv5nEAamu_V",
        "outputId": "108a67fd-4c70-4244-fb46-a53372ccbc8a",
        "colab": {
          "base_uri": "https://localhost:8080/"
        }
      },
      "execution_count": 1,
      "outputs": [
        {
          "output_type": "stream",
          "name": "stdout",
          "text": [
            "Mounted at /content/drive\n"
          ]
        }
      ]
    },
    {
      "cell_type": "code",
      "source": [
        "import os\n",
        "import numpy as np\n",
        "from skimage.io import imread\n",
        "from skimage.transform import resize\n",
        "from sklearn.decomposition import PCA\n",
        "from sklearn.model_selection import train_test_split, GridSearchCV\n",
        "from sklearn.ensemble import RandomForestClassifier\n",
        "from sklearn.metrics import classification_report, accuracy_score\n",
        "import pandas as pd\n",
        "from matplotlib import pyplot as plt\n",
        "from PIL import Image\n",
        "import tensorflow as tf\n",
        "from tensorflow.keras import preprocessing\n"
      ],
      "metadata": {
        "id": "PAy4zhUe8H76"
      },
      "execution_count": 12,
      "outputs": []
    },
    {
      "cell_type": "code",
      "source": [
        "# Helper function to convert dataset to a NumPy array\n",
        "def dataset_to_numpy(dataset, batch_size):\n",
        "    images = []\n",
        "    labels = []\n",
        "    dataset = dataset.unbatch().batch(batch_size)\n",
        "    for image_batch, label_batch in dataset.as_numpy_iterator():\n",
        "        images.append(image_batch)\n",
        "        labels.append(label_batch)\n",
        "    images = np.concatenate(images, axis=0)\n",
        "    labels = np.concatenate(labels, axis=0)\n",
        "    return images.reshape(images.shape[0], -1), labels  # Flatten images"
      ],
      "metadata": {
        "id": "kr9ynCmsTRdp"
      },
      "execution_count": 13,
      "outputs": []
    },
    {
      "cell_type": "code",
      "source": [
        "# Load datasets\n",
        "IMAGE_SIZE = (224, 224)\n",
        "\n",
        "dataset_training = tf.keras.preprocessing.image_dataset_from_directory(\n",
        "    directory='/content/drive/MyDrive/Dataset/train',\n",
        "    label_mode='categorical',\n",
        "    image_size=IMAGE_SIZE,\n",
        "    batch_size=32)\n",
        "\n",
        "dataset_valid = tf.keras.preprocessing.image_dataset_from_directory(\n",
        "    directory='/content/drive/MyDrive/Dataset/valid',\n",
        "    label_mode='categorical',\n",
        "    image_size=IMAGE_SIZE,\n",
        "    shuffle=False,\n",
        "    batch_size=32)\n",
        "\n",
        "\n",
        "dataset_test = tf.keras.preprocessing.image_dataset_from_directory(\n",
        "    directory='/content/drive/MyDrive/Dataset/test',\n",
        "    label_mode='categorical',\n",
        "    image_size=IMAGE_SIZE,\n",
        "    shuffle=False,\n",
        "    batch_size=32)\n",
        "\n",
        "\n"
      ],
      "metadata": {
        "colab": {
          "base_uri": "https://localhost:8080/"
        },
        "id": "bhw1NkHtTVgz",
        "outputId": "5d76d2fd-6bf1-4dec-e0db-9a06afbf916d"
      },
      "execution_count": 14,
      "outputs": [
        {
          "output_type": "stream",
          "name": "stdout",
          "text": [
            "Found 713 files belonging to 3 classes.\n",
            "Found 128 files belonging to 3 classes.\n",
            "Found 367 files belonging to 3 classes.\n"
          ]
        }
      ]
    },
    {
      "cell_type": "code",
      "source": [
        "\n",
        "# Convert datasets to NumPy arrays\n",
        "X_train, y_train = dataset_to_numpy(dataset_training, 32)\n",
        "X_val, y_val = dataset_to_numpy(dataset_valid, 32)\n",
        "X_test, y_test = dataset_to_numpy(dataset_test, 32)\n"
      ],
      "metadata": {
        "id": "Fc-MByBQVU9k"
      },
      "execution_count": 15,
      "outputs": []
    },
    {
      "cell_type": "code",
      "source": [
        "from sklearn.decomposition import IncrementalPCA\n",
        "import numpy as np\n",
        "\n",
        "# Parameters\n",
        "n_components = 32\n",
        "batch_size = 32\n",
        "\n",
        "# Initialize Incremental PCA\n",
        "ipca = IncrementalPCA(n_components=n_components, batch_size=batch_size)\n",
        "\n",
        "# Assuming X_train is your dataset\n",
        "for batch in np.array_split(X_train, len(X_train) // batch_size):\n",
        "    ipca.partial_fit(batch)  # Fit IPCA incrementally\n",
        "\n"
      ],
      "metadata": {
        "id": "jO-8nmWiluqN"
      },
      "execution_count": 16,
      "outputs": []
    },
    {
      "cell_type": "code",
      "source": [
        "# Transform the data\n",
        "X_train_pca = ipca.transform(X_train)\n",
        "X_val_pca = ipca.transform(X_val)\n",
        "X_test_pca = ipca.transform(X_test)\n",
        "\n",
        "# You can also plot the cumulative variance if needed\n",
        "plt.figure(figsize=(10, 5))\n",
        "plt.plot(np.cumsum(ipca.explained_variance_ratio_))\n",
        "plt.xlabel('Number of Components')\n",
        "plt.ylabel('Cumulative Explained Variance')\n",
        "plt.title('PCA Cumulative Variance')\n",
        "plt.grid(True)\n",
        "plt.show()\n"
      ],
      "metadata": {
        "colab": {
          "base_uri": "https://localhost:8080/",
          "height": 488
        },
        "id": "fCz-CyjYl0k8",
        "outputId": "c276e770-5ed0-48f2-bd54-c543fb526886"
      },
      "execution_count": 17,
      "outputs": [
        {
          "output_type": "display_data",
          "data": {
            "text/plain": [
              "<Figure size 1000x500 with 1 Axes>"
            ],
            "image/png": "[encoded data removed]"
          },
          "metadata": {}
        }
      ]
    },
    {
      "cell_type": "code",
      "source": [
        "# Random Forest classifier and grid search\n",
        "param_grid = {\n",
        "    'n_estimators': [100, 200, 300],\n",
        "    'max_features': ['sqrt'],\n",
        "    'max_depth': [4, 6, 8, 10],\n",
        "    'criterion': ['gini', 'entropy']\n",
        "}"
      ],
      "metadata": {
        "id": "PyaNbGaAVpGM"
      },
      "execution_count": 18,
      "outputs": []
    },
    {
      "cell_type": "markdown",
      "source": [
        "#Training"
      ],
      "metadata": {
        "id": "QFWbc6Gzc1qE"
      }
    },
    {
      "cell_type": "markdown",
      "source": [
        "##RF with Advanced Usage with Grid Search and Parallel Processing"
      ],
      "metadata": {
        "id": "TqOUTedh4NHl"
      }
    },
    {
      "cell_type": "code",
      "source": [
        "# Initialize the classifier and perform grid search\n",
        "rfc = RandomForestClassifier(random_state=42)\n",
        "grid_search = GridSearchCV(estimator=rfc, param_grid=param_grid, cv=5, verbose=1, n_jobs=1)\n",
        "\n",
        "# Fit model with thread-based parallel processing\n",
        "with parallel_backend('threading', n_jobs=-1):\n",
        "    grid_search.fit(X_train_pca, np.argmax(y_train, axis=1))  # Use argmax to convert one-hot to labels\n",
        "\n",
        "# Evaluate the model using PCA-transformed data\n",
        "best_clf = grid_search.best_estimator_\n",
        "y_train_pred = best_clf.predict(X_train_pca)  # Corrected line\n",
        "y_pred = best_clf.predict(X_val_pca)\n",
        "\n",
        "# Print evaluation metrics\n",
        "print(\"Best Parameters:\", grid_search.best_params_)\n",
        "training_accuracy = accuracy_score(np.argmax(y_train, axis=1), y_train_pred)\n",
        "print(\"Classification Report:\\n\", classification_report(np.argmax(y_val, axis=1), y_pred))\n",
        "print(\"Training Accuracy:\", training_accuracy)\n",
        "\n",
        "# Calculate and print validation and test accuracies\n",
        "val_accuracy = accuracy_score(np.argmax(y_val, axis=1), y_pred)\n",
        "print(\"Validation Accuracy:\", val_accuracy)\n",
        "test_accuracy = accuracy_score(np.argmax(y_test, axis=1), best_clf.predict(X_test_pca))  # Convert one-hot to labels for accuracy\n",
        "print(\"Testing Accuracy:\", test_accuracy)\n"
      ],
      "metadata": {
        "colab": {
          "base_uri": "https://localhost:8080/"
        },
        "id": "bNWFsFmBZbZz",
        "outputId": "17aea0ba-5e92-4293-f781-6631fc1f77c8"
      },
      "execution_count": 30,
      "outputs": [
        {
          "output_type": "stream",
          "name": "stdout",
          "text": [
            "Fitting 5 folds for each of 24 candidates, totalling 120 fits\n",
            "Best Parameters: {'criterion': 'gini', 'max_depth': 10, 'max_features': 'sqrt', 'n_estimators': 300}\n",
            "Classification Report:\n",
            "               precision    recall  f1-score   support\n",
            "\n",
            "           0       0.25      0.10      0.14        51\n",
            "           1       0.62      0.13      0.22        38\n",
            "           2       0.27      0.69      0.39        39\n",
            "\n",
            "    accuracy                           0.29       128\n",
            "   macro avg       0.38      0.31      0.25       128\n",
            "weighted avg       0.37      0.29      0.24       128\n",
            "\n",
            "Training Accuracy: 0.9985974754558204\n",
            "Validation Accuracy: 0.2890625\n",
            "Testing Accuracy: 0.5286103542234333\n"
          ]
        }
      ]
    },
    {
      "cell_type": "markdown",
      "source": [
        "#Testing"
      ],
      "metadata": {
        "id": "-ZIlDn5Yc8F8"
      }
    },
    {
      "cell_type": "markdown",
      "source": [
        "## Calculating Testing Accuracy"
      ],
      "metadata": {
        "id": "C5cunrjQc_P7"
      }
    },
    {
      "cell_type": "code",
      "source": [
        "from sklearn.metrics import accuracy_score\n",
        "\n",
        "# Assuming clf is your trained classifier and you have already used it to predict\n",
        "y_pred = best_clf.predict(X_test_pca)\n",
        "\n",
        "\n",
        "y_test_labels = np.argmax(y_test, axis=1)\n",
        "\n",
        "# Calculate accuracy\n",
        "accuracy = accuracy_score(y_test_labels, y_pred)\n",
        "print(\"Testing Accuracy:\", accuracy)\n"
      ],
      "metadata": {
        "colab": {
          "base_uri": "https://localhost:8080/"
        },
        "id": "-zAC-rhTe3MW",
        "outputId": "6eed6ee6-d157-4fcc-a68a-81de9e0f8918"
      },
      "execution_count": 40,
      "outputs": [
        {
          "output_type": "stream",
          "name": "stdout",
          "text": [
            "Testing Accuracy: 0.5286103542234333\n"
          ]
        }
      ]
    },
    {
      "cell_type": "markdown",
      "source": [
        "#Model Summary"
      ],
      "metadata": {
        "id": "IYUOwsUi0F_d"
      }
    },
    {
      "cell_type": "code",
      "source": [
        "print(\"Best Model Summary:\")\n",
        "print(best_clf)"
      ],
      "metadata": {
        "colab": {
          "base_uri": "https://localhost:8080/"
        },
        "id": "jSFPLgOk0Euj",
        "outputId": "88aa39f3-df3d-423f-d751-b49e15b1474a"
      },
      "execution_count": 41,
      "outputs": [
        {
          "output_type": "stream",
          "name": "stdout",
          "text": [
            "Best Model Summary:\n",
            "RandomForestClassifier(max_depth=10, n_estimators=300, random_state=42)\n"
          ]
        }
      ]
    }
  ]
}